{
 "cells": [
  {
   "cell_type": "markdown",
   "metadata": {},
   "source": [
    "# Factors affecting Economic Growth in Developing Countries"
   ]
  },
  {
   "cell_type": "code",
   "execution_count": 68,
   "metadata": {},
   "outputs": [],
   "source": [
    "# changing base year of aid to 2015"
   ]
  },
  {
   "cell_type": "code",
   "execution_count": 86,
   "metadata": {},
   "outputs": [],
   "source": [
    "# importing libraries\n",
    "import numpy as np\n",
    "import pandas as pd\n",
    "from matplotlib import pyplot as plt\n",
    "from sklearn.impute import KNNImputer\n",
    "from sklearn.preprocessing import StandardScaler\n",
    "from sklearn.linear_model import LinearRegression"
   ]
  },
  {
   "cell_type": "code",
   "execution_count": 70,
   "metadata": {},
   "outputs": [
    {
     "data": {
      "text/html": [
       "<div>\n",
       "<style scoped>\n",
       "    .dataframe tbody tr th:only-of-type {\n",
       "        vertical-align: middle;\n",
       "    }\n",
       "\n",
       "    .dataframe tbody tr th {\n",
       "        vertical-align: top;\n",
       "    }\n",
       "\n",
       "    .dataframe thead th {\n",
       "        text-align: right;\n",
       "    }\n",
       "</style>\n",
       "<table border=\"1\" class=\"dataframe\">\n",
       "  <thead>\n",
       "    <tr style=\"text-align: right;\">\n",
       "      <th></th>\n",
       "      <th>year</th>\n",
       "      <th>country</th>\n",
       "      <th>growth</th>\n",
       "      <th>gdp</th>\n",
       "      <th>export</th>\n",
       "      <th>debt</th>\n",
       "      <th>resource</th>\n",
       "      <th>aid</th>\n",
       "      <th>life</th>\n",
       "      <th>invest</th>\n",
       "      <th>fdi</th>\n",
       "      <th>deflator</th>\n",
       "    </tr>\n",
       "  </thead>\n",
       "  <tbody>\n",
       "    <tr>\n",
       "      <th>0</th>\n",
       "      <td>1990</td>\n",
       "      <td>Afghanistan</td>\n",
       "      <td>NaN</td>\n",
       "      <td>NaN</td>\n",
       "      <td>NaN</td>\n",
       "      <td>NaN</td>\n",
       "      <td>NaN</td>\n",
       "      <td>NaN</td>\n",
       "      <td>50.331</td>\n",
       "      <td>NaN</td>\n",
       "      <td>NaN</td>\n",
       "      <td>NaN</td>\n",
       "    </tr>\n",
       "    <tr>\n",
       "      <th>1</th>\n",
       "      <td>1990</td>\n",
       "      <td>Algeria</td>\n",
       "      <td>-1.754076</td>\n",
       "      <td>3123.995683</td>\n",
       "      <td>3.189756e+10</td>\n",
       "      <td>NaN</td>\n",
       "      <td>17.705187</td>\n",
       "      <td>NaN</td>\n",
       "      <td>66.938</td>\n",
       "      <td>NaN</td>\n",
       "      <td>0.000540</td>\n",
       "      <td>30.259599</td>\n",
       "    </tr>\n",
       "    <tr>\n",
       "      <th>2</th>\n",
       "      <td>1990</td>\n",
       "      <td>Angola</td>\n",
       "      <td>-6.657467</td>\n",
       "      <td>2998.780751</td>\n",
       "      <td>NaN</td>\n",
       "      <td>NaN</td>\n",
       "      <td>28.958619</td>\n",
       "      <td>NaN</td>\n",
       "      <td>45.306</td>\n",
       "      <td>NaN</td>\n",
       "      <td>-2.979635</td>\n",
       "      <td>14.007440</td>\n",
       "    </tr>\n",
       "    <tr>\n",
       "      <th>3</th>\n",
       "      <td>1990</td>\n",
       "      <td>Bangladesh</td>\n",
       "      <td>3.086982</td>\n",
       "      <td>512.096589</td>\n",
       "      <td>1.631244e+09</td>\n",
       "      <td>NaN</td>\n",
       "      <td>0.537215</td>\n",
       "      <td>NaN</td>\n",
       "      <td>58.210</td>\n",
       "      <td>NaN</td>\n",
       "      <td>0.010250</td>\n",
       "      <td>6.532735</td>\n",
       "    </tr>\n",
       "    <tr>\n",
       "      <th>4</th>\n",
       "      <td>1990</td>\n",
       "      <td>Belize</td>\n",
       "      <td>9.017296</td>\n",
       "      <td>3147.267760</td>\n",
       "      <td>2.596129e+08</td>\n",
       "      <td>28.129049</td>\n",
       "      <td>0.763750</td>\n",
       "      <td>NaN</td>\n",
       "      <td>71.242</td>\n",
       "      <td>10.979978</td>\n",
       "      <td>4.173882</td>\n",
       "      <td>0.172866</td>\n",
       "    </tr>\n",
       "    <tr>\n",
       "      <th>...</th>\n",
       "      <td>...</td>\n",
       "      <td>...</td>\n",
       "      <td>...</td>\n",
       "      <td>...</td>\n",
       "      <td>...</td>\n",
       "      <td>...</td>\n",
       "      <td>...</td>\n",
       "      <td>...</td>\n",
       "      <td>...</td>\n",
       "      <td>...</td>\n",
       "      <td>...</td>\n",
       "      <td>...</td>\n",
       "    </tr>\n",
       "    <tr>\n",
       "      <th>487</th>\n",
       "      <td>2015</td>\n",
       "      <td>Vietnam</td>\n",
       "      <td>5.570526</td>\n",
       "      <td>2085.101349</td>\n",
       "      <td>1.734904e+11</td>\n",
       "      <td>NaN</td>\n",
       "      <td>4.206113</td>\n",
       "      <td>NaN</td>\n",
       "      <td>75.110</td>\n",
       "      <td>NaN</td>\n",
       "      <td>6.106361</td>\n",
       "      <td>-0.190788</td>\n",
       "    </tr>\n",
       "    <tr>\n",
       "      <th>488</th>\n",
       "      <td>2015</td>\n",
       "      <td>West Bank and Gaza</td>\n",
       "      <td>1.372585</td>\n",
       "      <td>3272.154324</td>\n",
       "      <td>2.244300e+09</td>\n",
       "      <td>NaN</td>\n",
       "      <td>0.000000</td>\n",
       "      <td>NaN</td>\n",
       "      <td>73.442</td>\n",
       "      <td>0.255305</td>\n",
       "      <td>0.751036</td>\n",
       "      <td>-3.707013</td>\n",
       "    </tr>\n",
       "    <tr>\n",
       "      <th>489</th>\n",
       "      <td>2015</td>\n",
       "      <td>Yemen, Rep.</td>\n",
       "      <td>-29.827145</td>\n",
       "      <td>1601.830063</td>\n",
       "      <td>NaN</td>\n",
       "      <td>NaN</td>\n",
       "      <td>2.105149</td>\n",
       "      <td>NaN</td>\n",
       "      <td>66.085</td>\n",
       "      <td>NaN</td>\n",
       "      <td>-0.036388</td>\n",
       "      <td>46.476251</td>\n",
       "    </tr>\n",
       "    <tr>\n",
       "      <th>490</th>\n",
       "      <td>2015</td>\n",
       "      <td>Zambia</td>\n",
       "      <td>-0.187950</td>\n",
       "      <td>1338.290927</td>\n",
       "      <td>7.892389e+09</td>\n",
       "      <td>49.407327</td>\n",
       "      <td>11.163582</td>\n",
       "      <td>NaN</td>\n",
       "      <td>61.737</td>\n",
       "      <td>3.090412</td>\n",
       "      <td>7.447417</td>\n",
       "      <td>6.659292</td>\n",
       "    </tr>\n",
       "    <tr>\n",
       "      <th>491</th>\n",
       "      <td>2015</td>\n",
       "      <td>Zimbabwe</td>\n",
       "      <td>0.100575</td>\n",
       "      <td>1445.069702</td>\n",
       "      <td>3.824969e+09</td>\n",
       "      <td>NaN</td>\n",
       "      <td>4.561981</td>\n",
       "      <td>NaN</td>\n",
       "      <td>59.534</td>\n",
       "      <td>NaN</td>\n",
       "      <td>1.999687</td>\n",
       "      <td>0.607814</td>\n",
       "    </tr>\n",
       "  </tbody>\n",
       "</table>\n",
       "<p>492 rows × 12 columns</p>\n",
       "</div>"
      ],
      "text/plain": [
       "     year             country     growth          gdp        export  \\\n",
       "0    1990         Afghanistan        NaN          NaN           NaN   \n",
       "1    1990             Algeria  -1.754076  3123.995683  3.189756e+10   \n",
       "2    1990              Angola  -6.657467  2998.780751           NaN   \n",
       "3    1990          Bangladesh   3.086982   512.096589  1.631244e+09   \n",
       "4    1990              Belize   9.017296  3147.267760  2.596129e+08   \n",
       "..    ...                 ...        ...          ...           ...   \n",
       "487  2015             Vietnam   5.570526  2085.101349  1.734904e+11   \n",
       "488  2015  West Bank and Gaza   1.372585  3272.154324  2.244300e+09   \n",
       "489  2015         Yemen, Rep. -29.827145  1601.830063           NaN   \n",
       "490  2015              Zambia  -0.187950  1338.290927  7.892389e+09   \n",
       "491  2015            Zimbabwe   0.100575  1445.069702  3.824969e+09   \n",
       "\n",
       "          debt   resource  aid    life     invest       fdi   deflator  \n",
       "0          NaN        NaN  NaN  50.331        NaN       NaN        NaN  \n",
       "1          NaN  17.705187  NaN  66.938        NaN  0.000540  30.259599  \n",
       "2          NaN  28.958619  NaN  45.306        NaN -2.979635  14.007440  \n",
       "3          NaN   0.537215  NaN  58.210        NaN  0.010250   6.532735  \n",
       "4    28.129049   0.763750  NaN  71.242  10.979978  4.173882   0.172866  \n",
       "..         ...        ...  ...     ...        ...       ...        ...  \n",
       "487        NaN   4.206113  NaN  75.110        NaN  6.106361  -0.190788  \n",
       "488        NaN   0.000000  NaN  73.442   0.255305  0.751036  -3.707013  \n",
       "489        NaN   2.105149  NaN  66.085        NaN -0.036388  46.476251  \n",
       "490  49.407327  11.163582  NaN  61.737   3.090412  7.447417   6.659292  \n",
       "491        NaN   4.561981  NaN  59.534        NaN  1.999687   0.607814  \n",
       "\n",
       "[492 rows x 12 columns]"
      ]
     },
     "execution_count": 70,
     "metadata": {},
     "output_type": "execute_result"
    }
   ],
   "source": [
    "# reading the data\n",
    "cols = ['year', 'country', 'growth', 'gdp', 'export', 'debt', 'resource', 'aid', 'life', 'invest', 'fdi', 'deflator']\n",
    "data = pd.read_csv('data/data.csv')\n",
    "data.columns = cols\n",
    "data"
   ]
  },
  {
   "cell_type": "code",
   "execution_count": 71,
   "metadata": {},
   "outputs": [
    {
     "data": {
      "text/plain": [
       "aid         99.390244\n",
       "debt        83.739837\n",
       "invest      66.869919\n",
       "export      30.691057\n",
       "fdi          9.552846\n",
       "gdp          8.943089\n",
       "deflator     7.926829\n",
       "growth       7.723577\n",
       "resource     7.317073\n",
       "life         0.000000\n",
       "country      0.000000\n",
       "year         0.000000\n",
       "dtype: float64"
      ]
     },
     "execution_count": 71,
     "metadata": {},
     "output_type": "execute_result"
    }
   ],
   "source": [
    "data.isna().sum().sort_values(ascending=False) / len(data) * 100"
   ]
  },
  {
   "cell_type": "code",
   "execution_count": 72,
   "metadata": {},
   "outputs": [
    {
     "data": {
      "text/html": [
       "<div>\n",
       "<style scoped>\n",
       "    .dataframe tbody tr th:only-of-type {\n",
       "        vertical-align: middle;\n",
       "    }\n",
       "\n",
       "    .dataframe tbody tr th {\n",
       "        vertical-align: top;\n",
       "    }\n",
       "\n",
       "    .dataframe thead th {\n",
       "        text-align: right;\n",
       "    }\n",
       "</style>\n",
       "<table border=\"1\" class=\"dataframe\">\n",
       "  <thead>\n",
       "    <tr style=\"text-align: right;\">\n",
       "      <th></th>\n",
       "      <th>year</th>\n",
       "      <th>country</th>\n",
       "      <th>growth</th>\n",
       "      <th>gdp</th>\n",
       "      <th>export</th>\n",
       "      <th>resource</th>\n",
       "      <th>life</th>\n",
       "      <th>fdi</th>\n",
       "      <th>deflator</th>\n",
       "    </tr>\n",
       "  </thead>\n",
       "  <tbody>\n",
       "    <tr>\n",
       "      <th>0</th>\n",
       "      <td>1990</td>\n",
       "      <td>Afghanistan</td>\n",
       "      <td>NaN</td>\n",
       "      <td>NaN</td>\n",
       "      <td>NaN</td>\n",
       "      <td>NaN</td>\n",
       "      <td>50.331</td>\n",
       "      <td>NaN</td>\n",
       "      <td>NaN</td>\n",
       "    </tr>\n",
       "    <tr>\n",
       "      <th>1</th>\n",
       "      <td>1990</td>\n",
       "      <td>Algeria</td>\n",
       "      <td>-1.754076</td>\n",
       "      <td>3123.995683</td>\n",
       "      <td>3.189756e+10</td>\n",
       "      <td>17.705187</td>\n",
       "      <td>66.938</td>\n",
       "      <td>0.000540</td>\n",
       "      <td>30.259599</td>\n",
       "    </tr>\n",
       "    <tr>\n",
       "      <th>2</th>\n",
       "      <td>1990</td>\n",
       "      <td>Angola</td>\n",
       "      <td>-6.657467</td>\n",
       "      <td>2998.780751</td>\n",
       "      <td>NaN</td>\n",
       "      <td>28.958619</td>\n",
       "      <td>45.306</td>\n",
       "      <td>-2.979635</td>\n",
       "      <td>14.007440</td>\n",
       "    </tr>\n",
       "    <tr>\n",
       "      <th>3</th>\n",
       "      <td>1990</td>\n",
       "      <td>Bangladesh</td>\n",
       "      <td>3.086982</td>\n",
       "      <td>512.096589</td>\n",
       "      <td>1.631244e+09</td>\n",
       "      <td>0.537215</td>\n",
       "      <td>58.210</td>\n",
       "      <td>0.010250</td>\n",
       "      <td>6.532735</td>\n",
       "    </tr>\n",
       "    <tr>\n",
       "      <th>4</th>\n",
       "      <td>1990</td>\n",
       "      <td>Belize</td>\n",
       "      <td>9.017296</td>\n",
       "      <td>3147.267760</td>\n",
       "      <td>2.596129e+08</td>\n",
       "      <td>0.763750</td>\n",
       "      <td>71.242</td>\n",
       "      <td>4.173882</td>\n",
       "      <td>0.172866</td>\n",
       "    </tr>\n",
       "    <tr>\n",
       "      <th>...</th>\n",
       "      <td>...</td>\n",
       "      <td>...</td>\n",
       "      <td>...</td>\n",
       "      <td>...</td>\n",
       "      <td>...</td>\n",
       "      <td>...</td>\n",
       "      <td>...</td>\n",
       "      <td>...</td>\n",
       "      <td>...</td>\n",
       "    </tr>\n",
       "    <tr>\n",
       "      <th>487</th>\n",
       "      <td>2015</td>\n",
       "      <td>Vietnam</td>\n",
       "      <td>5.570526</td>\n",
       "      <td>2085.101349</td>\n",
       "      <td>1.734904e+11</td>\n",
       "      <td>4.206113</td>\n",
       "      <td>75.110</td>\n",
       "      <td>6.106361</td>\n",
       "      <td>-0.190788</td>\n",
       "    </tr>\n",
       "    <tr>\n",
       "      <th>488</th>\n",
       "      <td>2015</td>\n",
       "      <td>West Bank and Gaza</td>\n",
       "      <td>1.372585</td>\n",
       "      <td>3272.154324</td>\n",
       "      <td>2.244300e+09</td>\n",
       "      <td>0.000000</td>\n",
       "      <td>73.442</td>\n",
       "      <td>0.751036</td>\n",
       "      <td>-3.707013</td>\n",
       "    </tr>\n",
       "    <tr>\n",
       "      <th>489</th>\n",
       "      <td>2015</td>\n",
       "      <td>Yemen, Rep.</td>\n",
       "      <td>-29.827145</td>\n",
       "      <td>1601.830063</td>\n",
       "      <td>NaN</td>\n",
       "      <td>2.105149</td>\n",
       "      <td>66.085</td>\n",
       "      <td>-0.036388</td>\n",
       "      <td>46.476251</td>\n",
       "    </tr>\n",
       "    <tr>\n",
       "      <th>490</th>\n",
       "      <td>2015</td>\n",
       "      <td>Zambia</td>\n",
       "      <td>-0.187950</td>\n",
       "      <td>1338.290927</td>\n",
       "      <td>7.892389e+09</td>\n",
       "      <td>11.163582</td>\n",
       "      <td>61.737</td>\n",
       "      <td>7.447417</td>\n",
       "      <td>6.659292</td>\n",
       "    </tr>\n",
       "    <tr>\n",
       "      <th>491</th>\n",
       "      <td>2015</td>\n",
       "      <td>Zimbabwe</td>\n",
       "      <td>0.100575</td>\n",
       "      <td>1445.069702</td>\n",
       "      <td>3.824969e+09</td>\n",
       "      <td>4.561981</td>\n",
       "      <td>59.534</td>\n",
       "      <td>1.999687</td>\n",
       "      <td>0.607814</td>\n",
       "    </tr>\n",
       "  </tbody>\n",
       "</table>\n",
       "<p>492 rows × 9 columns</p>\n",
       "</div>"
      ],
      "text/plain": [
       "     year             country     growth          gdp        export  \\\n",
       "0    1990         Afghanistan        NaN          NaN           NaN   \n",
       "1    1990             Algeria  -1.754076  3123.995683  3.189756e+10   \n",
       "2    1990              Angola  -6.657467  2998.780751           NaN   \n",
       "3    1990          Bangladesh   3.086982   512.096589  1.631244e+09   \n",
       "4    1990              Belize   9.017296  3147.267760  2.596129e+08   \n",
       "..    ...                 ...        ...          ...           ...   \n",
       "487  2015             Vietnam   5.570526  2085.101349  1.734904e+11   \n",
       "488  2015  West Bank and Gaza   1.372585  3272.154324  2.244300e+09   \n",
       "489  2015         Yemen, Rep. -29.827145  1601.830063           NaN   \n",
       "490  2015              Zambia  -0.187950  1338.290927  7.892389e+09   \n",
       "491  2015            Zimbabwe   0.100575  1445.069702  3.824969e+09   \n",
       "\n",
       "      resource    life       fdi   deflator  \n",
       "0          NaN  50.331       NaN        NaN  \n",
       "1    17.705187  66.938  0.000540  30.259599  \n",
       "2    28.958619  45.306 -2.979635  14.007440  \n",
       "3     0.537215  58.210  0.010250   6.532735  \n",
       "4     0.763750  71.242  4.173882   0.172866  \n",
       "..         ...     ...       ...        ...  \n",
       "487   4.206113  75.110  6.106361  -0.190788  \n",
       "488   0.000000  73.442  0.751036  -3.707013  \n",
       "489   2.105149  66.085 -0.036388  46.476251  \n",
       "490  11.163582  61.737  7.447417   6.659292  \n",
       "491   4.561981  59.534  1.999687   0.607814  \n",
       "\n",
       "[492 rows x 9 columns]"
      ]
     },
     "execution_count": 72,
     "metadata": {},
     "output_type": "execute_result"
    }
   ],
   "source": [
    "data.drop(['aid', 'debt', 'invest'], axis=1, inplace=True)\n",
    "data"
   ]
  },
  {
   "cell_type": "code",
   "execution_count": 73,
   "metadata": {},
   "outputs": [
    {
     "data": {
      "text/html": [
       "<div>\n",
       "<style scoped>\n",
       "    .dataframe tbody tr th:only-of-type {\n",
       "        vertical-align: middle;\n",
       "    }\n",
       "\n",
       "    .dataframe tbody tr th {\n",
       "        vertical-align: top;\n",
       "    }\n",
       "\n",
       "    .dataframe thead th {\n",
       "        text-align: right;\n",
       "    }\n",
       "</style>\n",
       "<table border=\"1\" class=\"dataframe\">\n",
       "  <thead>\n",
       "    <tr style=\"text-align: right;\">\n",
       "      <th></th>\n",
       "      <th>year</th>\n",
       "      <th>country</th>\n",
       "      <th>growth</th>\n",
       "      <th>gdp</th>\n",
       "      <th>export</th>\n",
       "      <th>resource</th>\n",
       "      <th>life</th>\n",
       "      <th>fdi</th>\n",
       "      <th>deflator</th>\n",
       "    </tr>\n",
       "  </thead>\n",
       "  <tbody>\n",
       "    <tr>\n",
       "      <th>0</th>\n",
       "      <td>1990</td>\n",
       "      <td>Algeria</td>\n",
       "      <td>-1.754076</td>\n",
       "      <td>3123.995683</td>\n",
       "      <td>3.189756e+10</td>\n",
       "      <td>17.705187</td>\n",
       "      <td>66.938</td>\n",
       "      <td>0.000540</td>\n",
       "      <td>30.259599</td>\n",
       "    </tr>\n",
       "    <tr>\n",
       "      <th>1</th>\n",
       "      <td>1990</td>\n",
       "      <td>Angola</td>\n",
       "      <td>-6.657467</td>\n",
       "      <td>2998.780751</td>\n",
       "      <td>NaN</td>\n",
       "      <td>28.958619</td>\n",
       "      <td>45.306</td>\n",
       "      <td>-2.979635</td>\n",
       "      <td>14.007440</td>\n",
       "    </tr>\n",
       "    <tr>\n",
       "      <th>2</th>\n",
       "      <td>1990</td>\n",
       "      <td>Bangladesh</td>\n",
       "      <td>3.086982</td>\n",
       "      <td>512.096589</td>\n",
       "      <td>1.631244e+09</td>\n",
       "      <td>0.537215</td>\n",
       "      <td>58.210</td>\n",
       "      <td>0.010250</td>\n",
       "      <td>6.532735</td>\n",
       "    </tr>\n",
       "    <tr>\n",
       "      <th>3</th>\n",
       "      <td>1990</td>\n",
       "      <td>Belize</td>\n",
       "      <td>9.017296</td>\n",
       "      <td>3147.267760</td>\n",
       "      <td>2.596129e+08</td>\n",
       "      <td>0.763750</td>\n",
       "      <td>71.242</td>\n",
       "      <td>4.173882</td>\n",
       "      <td>0.172866</td>\n",
       "    </tr>\n",
       "    <tr>\n",
       "      <th>4</th>\n",
       "      <td>1990</td>\n",
       "      <td>Benin</td>\n",
       "      <td>5.507343</td>\n",
       "      <td>795.071655</td>\n",
       "      <td>6.169462e+08</td>\n",
       "      <td>7.735960</td>\n",
       "      <td>53.812</td>\n",
       "      <td>-0.150760</td>\n",
       "      <td>2.176597</td>\n",
       "    </tr>\n",
       "    <tr>\n",
       "      <th>...</th>\n",
       "      <td>...</td>\n",
       "      <td>...</td>\n",
       "      <td>...</td>\n",
       "      <td>...</td>\n",
       "      <td>...</td>\n",
       "      <td>...</td>\n",
       "      <td>...</td>\n",
       "      <td>...</td>\n",
       "      <td>...</td>\n",
       "    </tr>\n",
       "    <tr>\n",
       "      <th>449</th>\n",
       "      <td>2015</td>\n",
       "      <td>Vietnam</td>\n",
       "      <td>5.570526</td>\n",
       "      <td>2085.101349</td>\n",
       "      <td>1.734904e+11</td>\n",
       "      <td>4.206113</td>\n",
       "      <td>75.110</td>\n",
       "      <td>6.106361</td>\n",
       "      <td>-0.190788</td>\n",
       "    </tr>\n",
       "    <tr>\n",
       "      <th>450</th>\n",
       "      <td>2015</td>\n",
       "      <td>West Bank and Gaza</td>\n",
       "      <td>1.372585</td>\n",
       "      <td>3272.154324</td>\n",
       "      <td>2.244300e+09</td>\n",
       "      <td>0.000000</td>\n",
       "      <td>73.442</td>\n",
       "      <td>0.751036</td>\n",
       "      <td>-3.707013</td>\n",
       "    </tr>\n",
       "    <tr>\n",
       "      <th>451</th>\n",
       "      <td>2015</td>\n",
       "      <td>Yemen, Rep.</td>\n",
       "      <td>-29.827145</td>\n",
       "      <td>1601.830063</td>\n",
       "      <td>NaN</td>\n",
       "      <td>2.105149</td>\n",
       "      <td>66.085</td>\n",
       "      <td>-0.036388</td>\n",
       "      <td>46.476251</td>\n",
       "    </tr>\n",
       "    <tr>\n",
       "      <th>452</th>\n",
       "      <td>2015</td>\n",
       "      <td>Zambia</td>\n",
       "      <td>-0.187950</td>\n",
       "      <td>1338.290927</td>\n",
       "      <td>7.892389e+09</td>\n",
       "      <td>11.163582</td>\n",
       "      <td>61.737</td>\n",
       "      <td>7.447417</td>\n",
       "      <td>6.659292</td>\n",
       "    </tr>\n",
       "    <tr>\n",
       "      <th>453</th>\n",
       "      <td>2015</td>\n",
       "      <td>Zimbabwe</td>\n",
       "      <td>0.100575</td>\n",
       "      <td>1445.069702</td>\n",
       "      <td>3.824969e+09</td>\n",
       "      <td>4.561981</td>\n",
       "      <td>59.534</td>\n",
       "      <td>1.999687</td>\n",
       "      <td>0.607814</td>\n",
       "    </tr>\n",
       "  </tbody>\n",
       "</table>\n",
       "<p>454 rows × 9 columns</p>\n",
       "</div>"
      ],
      "text/plain": [
       "     year             country     growth          gdp        export  \\\n",
       "0    1990             Algeria  -1.754076  3123.995683  3.189756e+10   \n",
       "1    1990              Angola  -6.657467  2998.780751           NaN   \n",
       "2    1990          Bangladesh   3.086982   512.096589  1.631244e+09   \n",
       "3    1990              Belize   9.017296  3147.267760  2.596129e+08   \n",
       "4    1990               Benin   5.507343   795.071655  6.169462e+08   \n",
       "..    ...                 ...        ...          ...           ...   \n",
       "449  2015             Vietnam   5.570526  2085.101349  1.734904e+11   \n",
       "450  2015  West Bank and Gaza   1.372585  3272.154324  2.244300e+09   \n",
       "451  2015         Yemen, Rep. -29.827145  1601.830063           NaN   \n",
       "452  2015              Zambia  -0.187950  1338.290927  7.892389e+09   \n",
       "453  2015            Zimbabwe   0.100575  1445.069702  3.824969e+09   \n",
       "\n",
       "      resource    life       fdi   deflator  \n",
       "0    17.705187  66.938  0.000540  30.259599  \n",
       "1    28.958619  45.306 -2.979635  14.007440  \n",
       "2     0.537215  58.210  0.010250   6.532735  \n",
       "3     0.763750  71.242  4.173882   0.172866  \n",
       "4     7.735960  53.812 -0.150760   2.176597  \n",
       "..         ...     ...       ...        ...  \n",
       "449   4.206113  75.110  6.106361  -0.190788  \n",
       "450   0.000000  73.442  0.751036  -3.707013  \n",
       "451   2.105149  66.085 -0.036388  46.476251  \n",
       "452  11.163582  61.737  7.447417   6.659292  \n",
       "453   4.561981  59.534  1.999687   0.607814  \n",
       "\n",
       "[454 rows x 9 columns]"
      ]
     },
     "execution_count": 73,
     "metadata": {},
     "output_type": "execute_result"
    }
   ],
   "source": [
    "data.dropna(subset=['growth'], inplace=True)\n",
    "data.reset_index(inplace=True)\n",
    "data.drop('index', axis=1, inplace=True)\n",
    "data"
   ]
  },
  {
   "cell_type": "code",
   "execution_count": 74,
   "metadata": {},
   "outputs": [
    {
     "data": {
      "text/plain": [
       "export      25.330396\n",
       "fdi          3.524229\n",
       "gdp          1.982379\n",
       "resource     1.321586\n",
       "deflator     0.220264\n",
       "life         0.000000\n",
       "growth       0.000000\n",
       "country      0.000000\n",
       "year         0.000000\n",
       "dtype: float64"
      ]
     },
     "execution_count": 74,
     "metadata": {},
     "output_type": "execute_result"
    }
   ],
   "source": [
    "data.isna().sum().sort_values(ascending=False) / len(data) * 100"
   ]
  },
  {
   "cell_type": "code",
   "execution_count": 75,
   "metadata": {},
   "outputs": [
    {
     "data": {
      "text/html": [
       "<div>\n",
       "<style scoped>\n",
       "    .dataframe tbody tr th:only-of-type {\n",
       "        vertical-align: middle;\n",
       "    }\n",
       "\n",
       "    .dataframe tbody tr th {\n",
       "        vertical-align: top;\n",
       "    }\n",
       "\n",
       "    .dataframe thead th {\n",
       "        text-align: right;\n",
       "    }\n",
       "</style>\n",
       "<table border=\"1\" class=\"dataframe\">\n",
       "  <thead>\n",
       "    <tr style=\"text-align: right;\">\n",
       "      <th></th>\n",
       "      <th>year</th>\n",
       "      <th>country</th>\n",
       "      <th>growth</th>\n",
       "      <th>gdp</th>\n",
       "      <th>export</th>\n",
       "      <th>resource</th>\n",
       "      <th>life</th>\n",
       "      <th>fdi</th>\n",
       "      <th>deflator</th>\n",
       "    </tr>\n",
       "  </thead>\n",
       "  <tbody>\n",
       "    <tr>\n",
       "      <th>0</th>\n",
       "      <td>1990</td>\n",
       "      <td>Algeria</td>\n",
       "      <td>-1.754076</td>\n",
       "      <td>3123.995683</td>\n",
       "      <td>3.189756e+10</td>\n",
       "      <td>17.705187</td>\n",
       "      <td>66.938</td>\n",
       "      <td>0.000540</td>\n",
       "      <td>30.259599</td>\n",
       "    </tr>\n",
       "    <tr>\n",
       "      <th>1</th>\n",
       "      <td>1990</td>\n",
       "      <td>Angola</td>\n",
       "      <td>-6.657467</td>\n",
       "      <td>2998.780751</td>\n",
       "      <td>1.175058e+11</td>\n",
       "      <td>28.958619</td>\n",
       "      <td>45.306</td>\n",
       "      <td>-2.979635</td>\n",
       "      <td>14.007440</td>\n",
       "    </tr>\n",
       "    <tr>\n",
       "      <th>2</th>\n",
       "      <td>1990</td>\n",
       "      <td>Bangladesh</td>\n",
       "      <td>3.086982</td>\n",
       "      <td>512.096589</td>\n",
       "      <td>1.631244e+09</td>\n",
       "      <td>0.537215</td>\n",
       "      <td>58.210</td>\n",
       "      <td>0.010250</td>\n",
       "      <td>6.532735</td>\n",
       "    </tr>\n",
       "    <tr>\n",
       "      <th>3</th>\n",
       "      <td>1990</td>\n",
       "      <td>Belize</td>\n",
       "      <td>9.017296</td>\n",
       "      <td>3147.267760</td>\n",
       "      <td>2.596129e+08</td>\n",
       "      <td>0.763750</td>\n",
       "      <td>71.242</td>\n",
       "      <td>4.173882</td>\n",
       "      <td>0.172866</td>\n",
       "    </tr>\n",
       "    <tr>\n",
       "      <th>4</th>\n",
       "      <td>1990</td>\n",
       "      <td>Benin</td>\n",
       "      <td>5.507343</td>\n",
       "      <td>795.071655</td>\n",
       "      <td>6.169462e+08</td>\n",
       "      <td>7.735960</td>\n",
       "      <td>53.812</td>\n",
       "      <td>-0.150760</td>\n",
       "      <td>2.176597</td>\n",
       "    </tr>\n",
       "    <tr>\n",
       "      <th>...</th>\n",
       "      <td>...</td>\n",
       "      <td>...</td>\n",
       "      <td>...</td>\n",
       "      <td>...</td>\n",
       "      <td>...</td>\n",
       "      <td>...</td>\n",
       "      <td>...</td>\n",
       "      <td>...</td>\n",
       "      <td>...</td>\n",
       "    </tr>\n",
       "    <tr>\n",
       "      <th>449</th>\n",
       "      <td>2015</td>\n",
       "      <td>Vietnam</td>\n",
       "      <td>5.570526</td>\n",
       "      <td>2085.101349</td>\n",
       "      <td>1.734904e+11</td>\n",
       "      <td>4.206113</td>\n",
       "      <td>75.110</td>\n",
       "      <td>6.106361</td>\n",
       "      <td>-0.190788</td>\n",
       "    </tr>\n",
       "    <tr>\n",
       "      <th>450</th>\n",
       "      <td>2015</td>\n",
       "      <td>West Bank and Gaza</td>\n",
       "      <td>1.372585</td>\n",
       "      <td>3272.154324</td>\n",
       "      <td>2.244300e+09</td>\n",
       "      <td>0.000000</td>\n",
       "      <td>73.442</td>\n",
       "      <td>0.751036</td>\n",
       "      <td>-3.707013</td>\n",
       "    </tr>\n",
       "    <tr>\n",
       "      <th>451</th>\n",
       "      <td>2015</td>\n",
       "      <td>Yemen, Rep.</td>\n",
       "      <td>-29.827145</td>\n",
       "      <td>1601.830063</td>\n",
       "      <td>4.191094e+10</td>\n",
       "      <td>2.105149</td>\n",
       "      <td>66.085</td>\n",
       "      <td>-0.036388</td>\n",
       "      <td>46.476251</td>\n",
       "    </tr>\n",
       "    <tr>\n",
       "      <th>452</th>\n",
       "      <td>2015</td>\n",
       "      <td>Zambia</td>\n",
       "      <td>-0.187950</td>\n",
       "      <td>1338.290927</td>\n",
       "      <td>7.892389e+09</td>\n",
       "      <td>11.163582</td>\n",
       "      <td>61.737</td>\n",
       "      <td>7.447417</td>\n",
       "      <td>6.659292</td>\n",
       "    </tr>\n",
       "    <tr>\n",
       "      <th>453</th>\n",
       "      <td>2015</td>\n",
       "      <td>Zimbabwe</td>\n",
       "      <td>0.100575</td>\n",
       "      <td>1445.069702</td>\n",
       "      <td>3.824969e+09</td>\n",
       "      <td>4.561981</td>\n",
       "      <td>59.534</td>\n",
       "      <td>1.999687</td>\n",
       "      <td>0.607814</td>\n",
       "    </tr>\n",
       "  </tbody>\n",
       "</table>\n",
       "<p>454 rows × 9 columns</p>\n",
       "</div>"
      ],
      "text/plain": [
       "     year             country     growth          gdp        export  \\\n",
       "0    1990             Algeria  -1.754076  3123.995683  3.189756e+10   \n",
       "1    1990              Angola  -6.657467  2998.780751  1.175058e+11   \n",
       "2    1990          Bangladesh   3.086982   512.096589  1.631244e+09   \n",
       "3    1990              Belize   9.017296  3147.267760  2.596129e+08   \n",
       "4    1990               Benin   5.507343   795.071655  6.169462e+08   \n",
       "..    ...                 ...        ...          ...           ...   \n",
       "449  2015             Vietnam   5.570526  2085.101349  1.734904e+11   \n",
       "450  2015  West Bank and Gaza   1.372585  3272.154324  2.244300e+09   \n",
       "451  2015         Yemen, Rep. -29.827145  1601.830063  4.191094e+10   \n",
       "452  2015              Zambia  -0.187950  1338.290927  7.892389e+09   \n",
       "453  2015            Zimbabwe   0.100575  1445.069702  3.824969e+09   \n",
       "\n",
       "      resource    life       fdi   deflator  \n",
       "0    17.705187  66.938  0.000540  30.259599  \n",
       "1    28.958619  45.306 -2.979635  14.007440  \n",
       "2     0.537215  58.210  0.010250   6.532735  \n",
       "3     0.763750  71.242  4.173882   0.172866  \n",
       "4     7.735960  53.812 -0.150760   2.176597  \n",
       "..         ...     ...       ...        ...  \n",
       "449   4.206113  75.110  6.106361  -0.190788  \n",
       "450   0.000000  73.442  0.751036  -3.707013  \n",
       "451   2.105149  66.085 -0.036388  46.476251  \n",
       "452  11.163582  61.737  7.447417   6.659292  \n",
       "453   4.561981  59.534  1.999687   0.607814  \n",
       "\n",
       "[454 rows x 9 columns]"
      ]
     },
     "execution_count": 75,
     "metadata": {},
     "output_type": "execute_result"
    }
   ],
   "source": [
    "imp = KNNImputer(n_neighbors=5)\n",
    "data.iloc[:, 3:] = imp.fit_transform(data.iloc[:, 3:])\n",
    "data"
   ]
  },
  {
   "cell_type": "code",
   "execution_count": 77,
   "metadata": {},
   "outputs": [],
   "source": [
    "df_dict = {}\n",
    "for year in range(1990, 2016, 5):\n",
    "    df_dict[year] = data[data.year == year]"
   ]
  },
  {
   "cell_type": "code",
   "execution_count": 78,
   "metadata": {},
   "outputs": [
    {
     "data": {
      "text/html": [
       "<div>\n",
       "<style scoped>\n",
       "    .dataframe tbody tr th:only-of-type {\n",
       "        vertical-align: middle;\n",
       "    }\n",
       "\n",
       "    .dataframe tbody tr th {\n",
       "        vertical-align: top;\n",
       "    }\n",
       "\n",
       "    .dataframe thead th {\n",
       "        text-align: right;\n",
       "    }\n",
       "</style>\n",
       "<table border=\"1\" class=\"dataframe\">\n",
       "  <thead>\n",
       "    <tr style=\"text-align: right;\">\n",
       "      <th></th>\n",
       "      <th>year</th>\n",
       "      <th>country</th>\n",
       "      <th>growth</th>\n",
       "      <th>gdp</th>\n",
       "      <th>export</th>\n",
       "      <th>resource</th>\n",
       "      <th>life</th>\n",
       "      <th>fdi</th>\n",
       "      <th>deflator</th>\n",
       "    </tr>\n",
       "  </thead>\n",
       "  <tbody>\n",
       "    <tr>\n",
       "      <th>0</th>\n",
       "      <td>1990</td>\n",
       "      <td>Algeria</td>\n",
       "      <td>-1.754076</td>\n",
       "      <td>3123.995683</td>\n",
       "      <td>3.189756e+10</td>\n",
       "      <td>17.705187</td>\n",
       "      <td>66.938</td>\n",
       "      <td>0.000540</td>\n",
       "      <td>30.259599</td>\n",
       "    </tr>\n",
       "    <tr>\n",
       "      <th>1</th>\n",
       "      <td>1990</td>\n",
       "      <td>Angola</td>\n",
       "      <td>-6.657467</td>\n",
       "      <td>2998.780751</td>\n",
       "      <td>1.175058e+11</td>\n",
       "      <td>28.958619</td>\n",
       "      <td>45.306</td>\n",
       "      <td>-2.979635</td>\n",
       "      <td>14.007440</td>\n",
       "    </tr>\n",
       "    <tr>\n",
       "      <th>2</th>\n",
       "      <td>1990</td>\n",
       "      <td>Bangladesh</td>\n",
       "      <td>3.086982</td>\n",
       "      <td>512.096589</td>\n",
       "      <td>1.631244e+09</td>\n",
       "      <td>0.537215</td>\n",
       "      <td>58.210</td>\n",
       "      <td>0.010250</td>\n",
       "      <td>6.532735</td>\n",
       "    </tr>\n",
       "    <tr>\n",
       "      <th>3</th>\n",
       "      <td>1990</td>\n",
       "      <td>Belize</td>\n",
       "      <td>9.017296</td>\n",
       "      <td>3147.267760</td>\n",
       "      <td>2.596129e+08</td>\n",
       "      <td>0.763750</td>\n",
       "      <td>71.242</td>\n",
       "      <td>4.173882</td>\n",
       "      <td>0.172866</td>\n",
       "    </tr>\n",
       "    <tr>\n",
       "      <th>4</th>\n",
       "      <td>1990</td>\n",
       "      <td>Benin</td>\n",
       "      <td>5.507343</td>\n",
       "      <td>795.071655</td>\n",
       "      <td>6.169462e+08</td>\n",
       "      <td>7.735960</td>\n",
       "      <td>53.812</td>\n",
       "      <td>-0.150760</td>\n",
       "      <td>2.176597</td>\n",
       "    </tr>\n",
       "    <tr>\n",
       "      <th>...</th>\n",
       "      <td>...</td>\n",
       "      <td>...</td>\n",
       "      <td>...</td>\n",
       "      <td>...</td>\n",
       "      <td>...</td>\n",
       "      <td>...</td>\n",
       "      <td>...</td>\n",
       "      <td>...</td>\n",
       "      <td>...</td>\n",
       "    </tr>\n",
       "    <tr>\n",
       "      <th>66</th>\n",
       "      <td>1990</td>\n",
       "      <td>Uzbekistan</td>\n",
       "      <td>-1.331990</td>\n",
       "      <td>1467.921251</td>\n",
       "      <td>9.176494e+10</td>\n",
       "      <td>9.938969</td>\n",
       "      <td>66.481</td>\n",
       "      <td>2.073340</td>\n",
       "      <td>3.979689</td>\n",
       "    </tr>\n",
       "    <tr>\n",
       "      <th>67</th>\n",
       "      <td>1990</td>\n",
       "      <td>Vanuatu</td>\n",
       "      <td>8.819769</td>\n",
       "      <td>2640.379223</td>\n",
       "      <td>8.025001e+10</td>\n",
       "      <td>0.905462</td>\n",
       "      <td>64.721</td>\n",
       "      <td>7.763654</td>\n",
       "      <td>-0.968104</td>\n",
       "    </tr>\n",
       "    <tr>\n",
       "      <th>68</th>\n",
       "      <td>1990</td>\n",
       "      <td>Vietnam</td>\n",
       "      <td>2.877014</td>\n",
       "      <td>541.900375</td>\n",
       "      <td>4.354755e+09</td>\n",
       "      <td>11.518886</td>\n",
       "      <td>70.551</td>\n",
       "      <td>2.781323</td>\n",
       "      <td>42.095098</td>\n",
       "    </tr>\n",
       "    <tr>\n",
       "      <th>69</th>\n",
       "      <td>1990</td>\n",
       "      <td>Zambia</td>\n",
       "      <td>-3.163812</td>\n",
       "      <td>851.184841</td>\n",
       "      <td>5.428570e+10</td>\n",
       "      <td>20.981825</td>\n",
       "      <td>49.249</td>\n",
       "      <td>6.170064</td>\n",
       "      <td>106.388920</td>\n",
       "    </tr>\n",
       "    <tr>\n",
       "      <th>70</th>\n",
       "      <td>1990</td>\n",
       "      <td>Zimbabwe</td>\n",
       "      <td>4.131839</td>\n",
       "      <td>1623.930176</td>\n",
       "      <td>3.998161e+09</td>\n",
       "      <td>4.212482</td>\n",
       "      <td>58.100</td>\n",
       "      <td>-0.138958</td>\n",
       "      <td>-0.920431</td>\n",
       "    </tr>\n",
       "  </tbody>\n",
       "</table>\n",
       "<p>71 rows × 9 columns</p>\n",
       "</div>"
      ],
      "text/plain": [
       "    year     country    growth          gdp        export   resource    life  \\\n",
       "0   1990     Algeria -1.754076  3123.995683  3.189756e+10  17.705187  66.938   \n",
       "1   1990      Angola -6.657467  2998.780751  1.175058e+11  28.958619  45.306   \n",
       "2   1990  Bangladesh  3.086982   512.096589  1.631244e+09   0.537215  58.210   \n",
       "3   1990      Belize  9.017296  3147.267760  2.596129e+08   0.763750  71.242   \n",
       "4   1990       Benin  5.507343   795.071655  6.169462e+08   7.735960  53.812   \n",
       "..   ...         ...       ...          ...           ...        ...     ...   \n",
       "66  1990  Uzbekistan -1.331990  1467.921251  9.176494e+10   9.938969  66.481   \n",
       "67  1990     Vanuatu  8.819769  2640.379223  8.025001e+10   0.905462  64.721   \n",
       "68  1990     Vietnam  2.877014   541.900375  4.354755e+09  11.518886  70.551   \n",
       "69  1990      Zambia -3.163812   851.184841  5.428570e+10  20.981825  49.249   \n",
       "70  1990    Zimbabwe  4.131839  1623.930176  3.998161e+09   4.212482  58.100   \n",
       "\n",
       "         fdi    deflator  \n",
       "0   0.000540   30.259599  \n",
       "1  -2.979635   14.007440  \n",
       "2   0.010250    6.532735  \n",
       "3   4.173882    0.172866  \n",
       "4  -0.150760    2.176597  \n",
       "..       ...         ...  \n",
       "66  2.073340    3.979689  \n",
       "67  7.763654   -0.968104  \n",
       "68  2.781323   42.095098  \n",
       "69  6.170064  106.388920  \n",
       "70 -0.138958   -0.920431  \n",
       "\n",
       "[71 rows x 9 columns]"
      ]
     },
     "execution_count": 78,
     "metadata": {},
     "output_type": "execute_result"
    }
   ],
   "source": [
    "df_dict[1990]"
   ]
  },
  {
   "cell_type": "code",
   "execution_count": 81,
   "metadata": {},
   "outputs": [],
   "source": [
    "# for year in range(1990, 2016, 5):\n",
    "#     print(f'Year: {year}')\n",
    "#     print(df_dict[year].isna().sum().sort_values(ascending=False))\n",
    "#     print()"
   ]
  },
  {
   "cell_type": "code",
   "execution_count": 94,
   "metadata": {},
   "outputs": [
    {
     "name": "stderr",
     "output_type": "stream",
     "text": [
      "/home/yashbg/miniconda3/envs/rasa/lib/python3.6/site-packages/pandas/core/indexing.py:966: SettingWithCopyWarning: \n",
      "A value is trying to be set on a copy of a slice from a DataFrame.\n",
      "Try using .loc[row_indexer,col_indexer] = value instead\n",
      "\n",
      "See the caveats in the documentation: https://pandas.pydata.org/pandas-docs/stable/user_guide/indexing.html#returning-a-view-versus-a-copy\n",
      "  self.obj[item] = s\n",
      "/home/yashbg/miniconda3/envs/rasa/lib/python3.6/site-packages/pandas/core/indexing.py:966: SettingWithCopyWarning: \n",
      "A value is trying to be set on a copy of a slice from a DataFrame.\n",
      "Try using .loc[row_indexer,col_indexer] = value instead\n",
      "\n",
      "See the caveats in the documentation: https://pandas.pydata.org/pandas-docs/stable/user_guide/indexing.html#returning-a-view-versus-a-copy\n",
      "  self.obj[item] = s\n",
      "/home/yashbg/miniconda3/envs/rasa/lib/python3.6/site-packages/pandas/core/indexing.py:966: SettingWithCopyWarning: \n",
      "A value is trying to be set on a copy of a slice from a DataFrame.\n",
      "Try using .loc[row_indexer,col_indexer] = value instead\n",
      "\n",
      "See the caveats in the documentation: https://pandas.pydata.org/pandas-docs/stable/user_guide/indexing.html#returning-a-view-versus-a-copy\n",
      "  self.obj[item] = s\n",
      "/home/yashbg/miniconda3/envs/rasa/lib/python3.6/site-packages/pandas/core/indexing.py:966: SettingWithCopyWarning: \n",
      "A value is trying to be set on a copy of a slice from a DataFrame.\n",
      "Try using .loc[row_indexer,col_indexer] = value instead\n",
      "\n",
      "See the caveats in the documentation: https://pandas.pydata.org/pandas-docs/stable/user_guide/indexing.html#returning-a-view-versus-a-copy\n",
      "  self.obj[item] = s\n",
      "/home/yashbg/miniconda3/envs/rasa/lib/python3.6/site-packages/pandas/core/indexing.py:966: SettingWithCopyWarning: \n",
      "A value is trying to be set on a copy of a slice from a DataFrame.\n",
      "Try using .loc[row_indexer,col_indexer] = value instead\n",
      "\n",
      "See the caveats in the documentation: https://pandas.pydata.org/pandas-docs/stable/user_guide/indexing.html#returning-a-view-versus-a-copy\n",
      "  self.obj[item] = s\n",
      "/home/yashbg/miniconda3/envs/rasa/lib/python3.6/site-packages/pandas/core/indexing.py:966: SettingWithCopyWarning: \n",
      "A value is trying to be set on a copy of a slice from a DataFrame.\n",
      "Try using .loc[row_indexer,col_indexer] = value instead\n",
      "\n",
      "See the caveats in the documentation: https://pandas.pydata.org/pandas-docs/stable/user_guide/indexing.html#returning-a-view-versus-a-copy\n",
      "  self.obj[item] = s\n"
     ]
    }
   ],
   "source": [
    "for year in range(1990, 2016, 5):\n",
    "    scaler = StandardScaler()\n",
    "    df_dict[year].iloc[:, 2:] = scaler.fit_transform(df_dict[year].iloc[:, 2:])"
   ]
  },
  {
   "cell_type": "code",
   "execution_count": 128,
   "metadata": {},
   "outputs": [
    {
     "name": "stdout",
     "output_type": "stream",
     "text": [
      "Year 1990: 0.09222281341066108 \n",
      "Year 1995: 0.044699723800550095 \n",
      "Year 2000: 0.16576710085424884 \n",
      "Year 2005: 0.1386886506290319 \n",
      "Year 2010: 0.06917568476714364 \n",
      "Year 2015: 0.0494919517588952 \n"
     ]
    }
   ],
   "source": [
    "lr_dict = {}\n",
    "X_dict = {}\n",
    "y_dict = {}\n",
    "for year in range(1990, 2016, 5):\n",
    "    X_dict[year] = df_dict[year].drop(['year', 'country', 'growth', 'deflator'], axis=1)\n",
    "    y_dict[year] = df_dict[year].growth\n",
    "    lr_dict[year] = LinearRegression().fit(X_dict[year], y_dict[year])\n",
    "    print(f'Year {year}: {lr_dict[year].score(X_dict[year], y_dict[year])} ')"
   ]
  },
  {
   "cell_type": "code",
   "execution_count": 129,
   "metadata": {},
   "outputs": [
    {
     "name": "stdout",
     "output_type": "stream",
     "text": [
      "Year 1990: coef: [-0.08370622 -0.08081019  0.06978284  0.30705136  0.09774508] intercept: -1.502253052031049e-16\n",
      "Year 1995: coef: [ 0.12166271 -0.01983644 -0.07952231 -0.2923698   0.00775054] intercept: -8.439385445560911e-17\n",
      "Year 2000: coef: [-0.03618852  0.24390176  0.03884082  0.34366529  0.11191125] intercept: -6.106567561566461e-17\n",
      "Year 2005: coef: [-0.09381817  0.23865282  0.21001673  0.23517943  0.00124439] intercept: -5.297645537935546e-17\n",
      "Year 2010: coef: [-0.15422639  0.1726359   0.14521424 -0.0146353  -0.04424017] intercept: -1.883487593622738e-17\n",
      "Year 2015: coef: [-0.10670889  0.05246991 -0.06271737  0.2304539  -0.00328465] intercept: -3.134739147748706e-16\n"
     ]
    }
   ],
   "source": [
    "for year in range(1990, 2016, 5):\n",
    "    print(f'Year {year}: coef: {lr_dict[year].coef_} intercept: {lr_dict[year].intercept_}')"
   ]
  },
  {
   "cell_type": "code",
   "execution_count": 115,
   "metadata": {},
   "outputs": [],
   "source": [
    "X = df_dict[2005].drop(['year', 'country', 'growth', 'deflator'], axis=1)\n",
    "y = df_dict[2005].growth\n",
    "y_pred = lr_dict[2005].predict(X)"
   ]
  },
  {
   "cell_type": "code",
   "execution_count": 131,
   "metadata": {},
   "outputs": [
    {
     "data": {
      "image/png": "[encoded data removed]",
      "text/plain": [
       "<Figure size 432x288 with 1 Axes>"
      ]
     },
     "metadata": {
      "needs_background": "light"
     },
     "output_type": "display_data"
    },
    {
     "data": {
      "image/png": "[encoded data removed]",
      "text/plain": [
       "<Figure size 432x288 with 1 Axes>"
      ]
     },
     "metadata": {
      "needs_background": "light"
     },
     "output_type": "display_data"
    },
    {
     "data": {
      "image/png": "[encoded data removed]",
      "text/plain": [
       "<Figure size 432x288 with 1 Axes>"
      ]
     },
     "metadata": {
      "needs_background": "light"
     },
     "output_type": "display_data"
    },
    {
     "data": {
      "image/png": "[encoded data removed]",
      "text/plain": [
       "<Figure size 432x288 with 1 Axes>"
      ]
     },
     "metadata": {
      "needs_background": "light"
     },
     "output_type": "display_data"
    },
    {
     "data": {
      "image/png": "[encoded data removed]",
      "text/plain": [
       "<Figure size 432x288 with 1 Axes>"
      ]
     },
     "metadata": {
      "needs_background": "light"
     },
     "output_type": "display_data"
    },
    {
     "data": {
      "image/png": "[encoded data removed]",
      "text/plain": [
       "<Figure size 432x288 with 1 Axes>"
      ]
     },
     "metadata": {
      "needs_background": "light"
     },
     "output_type": "display_data"
    },
    {
     "data": {
      "image/png": "[encoded data removed]",
      "text/plain": [
       "<Figure size 432x288 with 1 Axes>"
      ]
     },
     "metadata": {
      "needs_background": "light"
     },
     "output_type": "display_data"
    },
    {
     "data": {
      "image/png": "[encoded data removed]",
      "text/plain": [
       "<Figure size 432x288 with 1 Axes>"
      ]
     },
     "metadata": {
      "needs_background": "light"
     },
     "output_type": "display_data"
    },
    {
     "data": {
      "image/png": "[encoded data removed]",
      "text/plain": [
       "<Figure size 432x288 with 1 Axes>"
      ]
     },
     "metadata": {
      "needs_background": "light"
     },
     "output_type": "display_data"
    },
    {
     "data": {
      "image/png": "[encoded data removed]",
      "text/plain": [
       "<Figure size 432x288 with 1 Axes>"
      ]
     },
     "metadata": {
      "needs_background": "light"
     },
     "output_type": "display_data"
    },
    {
     "data": {
      "image/png": "[encoded data removed]",
      "text/plain": [
       "<Figure size 432x288 with 1 Axes>"
      ]
     },
     "metadata": {
      "needs_background": "light"
     },
     "output_type": "display_data"
    },
    {
     "data": {
      "image/png": "[encoded data removed]",
      "text/plain": [
       "<Figure size 432x288 with 1 Axes>"
      ]
     },
     "metadata": {
      "needs_background": "light"
     },
     "output_type": "display_data"
    },
    {
     "data": {
      "image/png": "[encoded data removed]",
      "text/plain": [
       "<Figure size 432x288 with 1 Axes>"
      ]
     },
     "metadata": {
      "needs_background": "light"
     },
     "output_type": "display_data"
    },
    {
     "data": {
      "image/png": "[encoded data removed]",
      "text/plain": [
       "<Figure size 432x288 with 1 Axes>"
      ]
     },
     "metadata": {
      "needs_background": "light"
     },
     "output_type": "display_data"
    },
    {
     "data": {
      "image/png": "[encoded data removed]",
      "text/plain": [
       "<Figure size 432x288 with 1 Axes>"
      ]
     },
     "metadata": {
      "needs_background": "light"
     },
     "output_type": "display_data"
    },
    {
     "data": {
      "image/png": "[encoded data removed]",
      "text/plain": [
       "<Figure size 432x288 with 1 Axes>"
      ]
     },
     "metadata": {
      "needs_background": "light"
     },
     "output_type": "display_data"
    },
    {
     "data": {
      "image/png": "[encoded data removed]",
      "text/plain": [
       "<Figure size 432x288 with 1 Axes>"
      ]
     },
     "metadata": {
      "needs_background": "light"
     },
     "output_type": "display_data"
    },
    {
     "data": {
      "image/png": "[encoded data removed]",
      "text/plain": [
       "<Figure size 432x288 with 1 Axes>"
      ]
     },
     "metadata": {
      "needs_background": "light"
     },
     "output_type": "display_data"
    },
    {
     "data": {
      "image/png": "[encoded data removed]",
      "text/plain": [
       "<Figure size 432x288 with 1 Axes>"
      ]
     },
     "metadata": {
      "needs_background": "light"
     },
     "output_type": "display_data"
    },
    {
     "data": {
      "image/png": "[encoded data removed]",
      "text/plain": [
       "<Figure size 432x288 with 1 Axes>"
      ]
     },
     "metadata": {
      "needs_background": "light"
     },
     "output_type": "display_data"
    },
    {
     "data": {
      "image/png": "[encoded data removed]",
      "text/plain": [
       "<Figure size 432x288 with 1 Axes>"
      ]
     },
     "metadata": {
      "needs_background": "light"
     },
     "output_type": "display_data"
    },
    {
     "data": {
      "image/png": "[encoded data removed]",
      "text/plain": [
       "<Figure size 432x288 with 1 Axes>"
      ]
     },
     "metadata": {
      "needs_background": "light"
     },
     "output_type": "display_data"
    },
    {
     "data": {
      "image/png": "[encoded data removed]",
      "text/plain": [
       "<Figure size 432x288 with 1 Axes>"
      ]
     },
     "metadata": {
      "needs_background": "light"
     },
     "output_type": "display_data"
    },
    {
     "data": {
      "image/png": "[encoded data removed]",
      "text/plain": [
       "<Figure size 432x288 with 1 Axes>"
      ]
     },
     "metadata": {
      "needs_background": "light"
     },
     "output_type": "display_data"
    },
    {
     "data": {
      "image/png": "[encoded data removed]",
      "text/plain": [
       "<Figure size 432x288 with 1 Axes>"
      ]
     },
     "metadata": {
      "needs_background": "light"
     },
     "output_type": "display_data"
    },
    {
     "data": {
      "image/png": "[encoded data removed]",
      "text/plain": [
       "<Figure size 432x288 with 1 Axes>"
      ]
     },
     "metadata": {
      "needs_background": "light"
     },
     "output_type": "display_data"
    },
    {
     "data": {
      "image/png": "[encoded data removed]",
      "text/plain": [
       "<Figure size 432x288 with 1 Axes>"
      ]
     },
     "metadata": {
      "needs_background": "light"
     },
     "output_type": "display_data"
    },
    {
     "data": {
      "image/png": "[encoded data removed]",
      "text/plain": [
       "<Figure size 432x288 with 1 Axes>"
      ]
     },
     "metadata": {
      "needs_background": "light"
     },
     "output_type": "display_data"
    },
    {
     "data": {
      "image/png": "[encoded data removed]",
      "text/plain": [
       "<Figure size 432x288 with 1 Axes>"
      ]
     },
     "metadata": {
      "needs_background": "light"
     },
     "output_type": "display_data"
    },
    {
     "data": {
      "image/png": "[encoded data removed]",
      "text/plain": [
       "<Figure size 432x288 with 1 Axes>"
      ]
     },
     "metadata": {
      "needs_background": "light"
     },
     "output_type": "display_data"
    }
   ],
   "source": [
    "for year in range(1990, 2016, 5):\n",
    "    for i, col in enumerate(data.columns[3:-1]):\n",
    "        plt.scatter(X_dict[year][col], y_dict[year])\n",
    "        y_pred = lr_dict[year].coef_[i] * X_dict[year][col] + lr_dict[year].intercept_\n",
    "        plt.plot(X_dict[year][col], y_pred)\n",
    "        plt.show()"
   ]
  }
 ],
 "metadata": {
  "interpreter": {
   "hash": "d0381db2a15644c9d284f60bc0c5c788d6a73de85909a0a2f6b7ce93fb1924e0"
  },
  "kernelspec": {
   "display_name": "Python 3.6.8 64-bit ('rasa': conda)",
   "language": "python",
   "name": "python3"
  },
  "language_info": {
   "codemirror_mode": {
    "name": "ipython",
    "version": 3
   },
   "file_extension": ".py",
   "mimetype": "text/x-python",
   "name": "python",
   "nbconvert_exporter": "python",
   "pygments_lexer": "ipython3",
   "version": "3.6.8"
  },
  "orig_nbformat": 4
 },
 "nbformat": 4,
 "nbformat_minor": 2
}
